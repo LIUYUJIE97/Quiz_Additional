{
 "cells": [
  {
   "cell_type": "markdown",
   "metadata": {},
   "source": [
    "<div class=\"image\">\n",
    "\n",
    "  <img style=\"float: right;\" src=\"https://pku.org.uk/head.png\" width=\"45%\" align=\"right\">\n",
    "      <h4>\n",
    "          <p style=\"font-size:25pt\">UK19B307 AI Analytics</p>\n",
    "          <p style=\"font-size:15pt\">Additional Quiz</p>\n",
    "      </h4>\n",
    "<h5>\n",
    "    <p> Peking University</p>\n",
    "    <p> Demonstrable Labs</p>\n",
    "</h5>\n",
    "</div>"
   ]
  },
  {
   "cell_type": "markdown",
   "metadata": {},
   "source": [
    "### Please doule click this block and enter your name / ID:\n",
    "\n",
    "- Name: LIU YUJIE\n",
    "- ID: 1901212616"
   ]
  },
  {
   "cell_type": "code",
   "execution_count": 1,
   "metadata": {
    "collapsed": true
   },
   "outputs": [],
   "source": [
    "import numpy as np\n",
    "import pandas as pd"
   ]
  },
  {
   "cell_type": "markdown",
   "metadata": {},
   "source": [
    "<div class=\"alert alert-warning\">\n",
    "<b>QUESTION 1:</b> \n",
    "    \n",
    "Please print the following string using **ONE LINE** of code:\n",
    "    \n",
    "```\n",
    "Dear Alice,\n",
    "\n",
    "Eve's cat has been found in hotel \"Kitty\".\n",
    "\n",
    "Sincerely,\n",
    "Bob\n",
    "```\n",
    "\n",
    "</div>"
   ]
  },
  {
   "cell_type": "code",
   "execution_count": 8,
   "metadata": {},
   "outputs": [
    {
     "name": "stdout",
     "output_type": "stream",
     "text": [
      "Dear Alice,\n",
      "\n",
      "Eve's cat has been found in hotel \"Kitty\".\n",
      "\n",
      "Sincerely,\n",
      "Bob\n"
     ]
    }
   ],
   "source": [
    "print(\"Dear Alice,\\n\\nEve\\'s cat has been found in hotel \\\"Kitty\\\".\\n\\nSincerely,\\nBob\")"
   ]
  },
  {
   "cell_type": "markdown",
   "metadata": {},
   "source": [
    "<div class=\"alert alert-warning\">\n",
    "<b>QUESTION 2:</b> \n",
    "    \n",
    "1, Define a string: `names = 'Olivia; Amelia; Isla; Ava; Grace'`\n",
    "  \n",
    "2, Split the names in the string and turn it into a list. Print the list, the expected output is:\n",
    "   \n",
    "`['Olivia', 'Amelia', 'Isla', 'Ava', 'Grace']`\n",
    "</div>"
   ]
  },
  {
   "cell_type": "code",
   "execution_count": 10,
   "metadata": {},
   "outputs": [
    {
     "name": "stdout",
     "output_type": "stream",
     "text": [
      "['Olivia;', 'Amelia;', 'Isla;', 'Ava;', 'Grace']\n"
     ]
    }
   ],
   "source": [
    "names = 'Olivia; Amelia; Isla; Ava; Grace'\n",
    "print(list(names.split()))"
   ]
  },
  {
   "cell_type": "markdown",
   "metadata": {},
   "source": [
    "<div class=\"alert alert-warning\">\n",
    "<b>QUESTION 3:</b>\n",
    "\n",
    "One of the activation functions used in neural network is SQNL. When SQNL is used, the following equation is applied to the input signal: \n",
    "    \n",
    "$f(x) = \\left\\{\\begin{matrix} 1 & :x>2.0\\\\ x-\\frac{x^{2}}{4}&:0\\leq x\\leq 2.0 \\\\ x+\\frac{x^{2}}{4}&:-2.0\\leq x<0 \\\\ -1 & :x<-2.0 \\end{matrix}\\right.$\n",
    "<br>    \n",
    "Write a function called <code>SQNL</code> which takes a number as the argument. The function would **return** the result of applying the activation function.\n",
    "\n",
    "</div>"
   ]
  },
  {
   "cell_type": "code",
   "execution_count": 11,
   "metadata": {
    "collapsed": true
   },
   "outputs": [],
   "source": [
    "def SQNL(x):\n",
    "    if x>2.0:\n",
    "        return 1\n",
    "    elif x in [0,3.0]:\n",
    "        return x-(x**2)/4\n",
    "    elif x in [-2.0,0]:\n",
    "        return x+(x**2)/4\n",
    "    elif x<-2.0:\n",
    "        return -1"
   ]
  },
  {
   "cell_type": "markdown",
   "metadata": {},
   "source": [
    "<div class=\"alert alert-warning\">\n",
    "<b>QUESTION 4:</b>\n",
    "    \n",
    "Please fill the gaps in the code below so that the output of it would be `The percetage of the shares Jake holds is 9.68%.`(**DO NOT** miss the period at the end of the sentence).\n",
    "    \n",
    "```python\n",
    "Shares={'Jake':2359, 'Terry':4032, 'Rosa':5538, 'Amy':3200, 'Charles':7239, 'Gina':2007}\n",
    "print('________________'.format(_________))\n",
    "```\n",
    "</div>"
   ]
  },
  {
   "cell_type": "code",
   "execution_count": 100,
   "metadata": {},
   "outputs": [
    {
     "name": "stdout",
     "output_type": "stream",
     "text": [
      "The percetage of the shares Jake holds is 0.10\n"
     ]
    }
   ],
   "source": [
    "Shares={'Jake':2359, 'Terry':4032, 'Rosa':5538, 'Amy':3200, 'Charles':7239, 'Gina':2007}\n",
    "print('The percetage of the shares Jake holds is {:.2f}'.format((Shares['Jake'])/sum(Shares.values())))"
   ]
  },
  {
   "cell_type": "markdown",
   "metadata": {},
   "source": [
    "<div class=\"alert alert-warning\">\n",
    "<b>QUESTION 5:</b>\n",
    "    \n",
    "1, Define a dictionary: `Shares={'Jake':2359, 'Terry':4032, 'Rosa':5538, 'Amy':3200, 'Charles':7239, 'Gina':2007}`\n",
    "\n",
    "2, Using **ONE LINE** of code, create a list called `share_values` which contains all the values in the dictionary `Shares`.\n",
    "    \n",
    "3, Print `share_values`, the expected output is: `[2359, 4032, 5538, 3200, 7239, 2007]`\n",
    "</div>"
   ]
  },
  {
   "cell_type": "code",
   "execution_count": 13,
   "metadata": {},
   "outputs": [
    {
     "name": "stdout",
     "output_type": "stream",
     "text": [
      "[2359, 4032, 5538, 3200, 7239, 2007]\n"
     ]
    }
   ],
   "source": [
    "Shares={'Jake':2359, 'Terry':4032, 'Rosa':5538, 'Amy':3200, 'Charles':7239, 'Gina':2007}\n",
    "share_values=list(Shares.values())\n",
    "print(share_values)"
   ]
  },
  {
   "cell_type": "markdown",
   "metadata": {},
   "source": [
    "<div class=\"alert alert-warning\">\n",
    "<b>QUESTION 6:</b>\n",
    "    \n",
    "Please fill the gaps in the code below so that the output of it would be `[103, 105, 107, 109]`\n",
    "    \n",
    "```python\n",
    "nums = [101, 102, 103, 104, 105, 106, 107, 108, 109, 110]\n",
    "print(nums[______])\n",
    "```\n",
    "</div>"
   ]
  },
  {
   "cell_type": "code",
   "execution_count": 17,
   "metadata": {},
   "outputs": [
    {
     "name": "stdout",
     "output_type": "stream",
     "text": [
      "[103, 105, 107, 109]\n"
     ]
    }
   ],
   "source": [
    "nums = [101, 102, 103, 104, 105, 106, 107, 108, 109, 110]\n",
    "print(nums[2::2])"
   ]
  },
  {
   "cell_type": "markdown",
   "metadata": {},
   "source": [
    "<div class=\"alert alert-warning\">\n",
    "<b>QUESTION 7:</b>\n",
    "    \n",
    "1, Define a list: `scores = [40,69,42,68,90,73,77,22,10,63,81,58,80,55,66,39,74]`\n",
    "\n",
    "2, Write **ONE LINE** of code to print the number of elements (in the list) that are larger than 50 and smaller than 70. The expected output is : `6`\n",
    "    \n",
    "<br>  \n",
    "    <b>DO NOT</b> write print(6)\n",
    "</div>"
   ]
  },
  {
   "cell_type": "code",
   "execution_count": 38,
   "metadata": {},
   "outputs": [
    {
     "name": "stdout",
     "output_type": "stream",
     "text": [
      "6\n"
     ]
    }
   ],
   "source": [
    "scores = [40,69,42,68,90,73,77,22,10,63,81,58,80,55,66,39,74]\n",
    "print(len([x for x in scores if x >50 if x<70]))"
   ]
  },
  {
   "cell_type": "markdown",
   "metadata": {},
   "source": [
    "<div class=\"alert alert-warning\">\n",
    "<b>QUESTION 8:</b>\n",
    "    \n",
    "Create a list which contains numbers from 500 to 0, with an interval of 50. The list should start with 500 and end with 0.\n",
    "    \n",
    "Print the list, the expected output is: `[500, 450, 400, 350, 300, 250, 200, 150, 100, 50, 0]`\n",
    "</div>"
   ]
  },
  {
   "cell_type": "code",
   "execution_count": 89,
   "metadata": {},
   "outputs": [
    {
     "name": "stdout",
     "output_type": "stream",
     "text": [
      "[500 450 400 350 300 250 200 150 100  50   0]\n"
     ]
    }
   ],
   "source": [
    "print(np.arange(500,-1,-50))"
   ]
  },
  {
   "cell_type": "markdown",
   "metadata": {},
   "source": [
    "<div class=\"alert alert-warning\">\n",
    "<b>QUESTION 9: </b> \n",
    "\n",
    "1, Define a dictionary: `captials = {'China':'Peking', 'USA':'Washington', 'Russia':'Moscow', 'UK':'London', 'France':'Paris'}`\n",
    "\n",
    "2, Change the value `Peking` to `Beijing`. Print the dictionary, the expected output is: `{'China': 'Beijing', 'USA': 'Washington', 'Russia': 'Moscow', 'UK': 'London', 'France': 'Paris'}`."
   ]
  },
  {
   "cell_type": "code",
   "execution_count": 50,
   "metadata": {},
   "outputs": [
    {
     "name": "stdout",
     "output_type": "stream",
     "text": [
      "{'China': 'Beijing', 'USA': 'Washington', 'Russia': 'Moscow', 'UK': 'London', 'France': 'Paris'}\n"
     ]
    }
   ],
   "source": [
    "captials = {'China':'Peking', 'USA':'Washington', 'Russia':'Moscow', 'UK':'London', 'France':'Paris'}\n",
    "captials['China']='Beijing'\n",
    "print (captials)"
   ]
  },
  {
   "cell_type": "markdown",
   "metadata": {},
   "source": [
    "<div class=\"alert alert-warning\">\n",
    "<b>QUESTION 10:</b>\n",
    "    \n",
    "1, Define a list: `list_abc = ['Joe', 'Kik', 'Olo', 'Seb', Jokoj, 'MadAm', 'Yolo']`\n",
    "    \n",
    "2, Create a for loop that iterates through `list_abc` and prints `Not a palindrome!` if the element is not a palindrome and prints `Palindrome!` if the element is a palindrome.\n",
    "    \n",
    "Note: Palindrome is a word that reads the same backwords and forwards, such as *'Kik'*, *'MadAm'* or *'kayak'*.\n",
    "\n",
    "3, The expected output is:\n",
    "```\n",
    "Not a palindrome!\n",
    "Palindrome!\n",
    "Palindrome!\n",
    "Not a palindrome!\n",
    "Palindrome!\n",
    "Palindrome!\n",
    "Not a palindrome!```\n",
    "</div>"
   ]
  },
  {
   "cell_type": "code",
   "execution_count": 101,
   "metadata": {},
   "outputs": [
    {
     "ename": "TypeError",
     "evalue": "endswith() takes at least 1 argument (0 given)",
     "output_type": "error",
     "traceback": [
      "\u001b[1;31m---------------------------------------------------------------------------\u001b[0m",
      "\u001b[1;31mTypeError\u001b[0m                                 Traceback (most recent call last)",
      "\u001b[1;32m<ipython-input-101-7066a4322468>\u001b[0m in \u001b[0;36m<module>\u001b[1;34m()\u001b[0m\n\u001b[0;32m      1\u001b[0m \u001b[0mlist_abc\u001b[0m \u001b[1;33m=\u001b[0m \u001b[1;33m[\u001b[0m\u001b[1;34m'Joe'\u001b[0m\u001b[1;33m,\u001b[0m \u001b[1;34m'Kik'\u001b[0m\u001b[1;33m,\u001b[0m \u001b[1;34m'Olo'\u001b[0m\u001b[1;33m,\u001b[0m \u001b[1;34m'Seb'\u001b[0m\u001b[1;33m,\u001b[0m \u001b[1;34m'Jokoj'\u001b[0m\u001b[1;33m,\u001b[0m \u001b[1;34m'MadAm'\u001b[0m\u001b[1;33m,\u001b[0m \u001b[1;34m'Yolo'\u001b[0m\u001b[1;33m]\u001b[0m\u001b[1;33m\u001b[0m\u001b[0m\n\u001b[0;32m      2\u001b[0m \u001b[1;32mfor\u001b[0m \u001b[0mi\u001b[0m \u001b[1;32min\u001b[0m \u001b[0mlist_abc\u001b[0m\u001b[1;33m:\u001b[0m\u001b[1;33m\u001b[0m\u001b[0m\n\u001b[1;32m----> 3\u001b[1;33m     \u001b[1;32mif\u001b[0m \u001b[0mi\u001b[0m\u001b[1;33m.\u001b[0m\u001b[0mendswith\u001b[0m\u001b[1;33m(\u001b[0m\u001b[1;33m)\u001b[0m\u001b[1;33m.\u001b[0m\u001b[0mlower\u001b[0m\u001b[1;33m(\u001b[0m\u001b[1;33m)\u001b[0m\u001b[1;33m==\u001b[0m\u001b[0mi\u001b[0m\u001b[1;33m.\u001b[0m\u001b[0mstartswith\u001b[0m\u001b[1;33m(\u001b[0m\u001b[1;33m)\u001b[0m\u001b[1;33m.\u001b[0m\u001b[0mlower\u001b[0m\u001b[1;33m(\u001b[0m\u001b[1;33m)\u001b[0m\u001b[1;33m:\u001b[0m\u001b[1;33m\u001b[0m\u001b[0m\n\u001b[0m\u001b[0;32m      4\u001b[0m         \u001b[0mprint\u001b[0m\u001b[1;33m(\u001b[0m\u001b[1;34m'Palindrome!'\u001b[0m\u001b[1;33m)\u001b[0m\u001b[1;33m\u001b[0m\u001b[0m\n\u001b[0;32m      5\u001b[0m     \u001b[1;32melse\u001b[0m\u001b[1;33m:\u001b[0m\u001b[1;33m\u001b[0m\u001b[0m\n",
      "\u001b[1;31mTypeError\u001b[0m: endswith() takes at least 1 argument (0 given)"
     ]
    }
   ],
   "source": [
    "list_abc = ['Joe', 'Kik', 'Olo', 'Seb', 'Jokoj', 'MadAm', 'Yolo']\n",
    "for i in list_abc:\n",
    "    if i.endswith().lower()==i.startswith().lower():\n",
    "        print('Palindrome!')\n",
    "    else:\n",
    "        print('Not a palindrome!')"
   ]
  },
  {
   "cell_type": "markdown",
   "metadata": {},
   "source": [
    "<div class=\"alert alert-warning\">\n",
    "<b>QUESTION 11: </b> \n",
    "\n",
    "1, Define two arrays:\n",
    "    \n",
    "```python\n",
    "arr_1 = np.array([[1, 3, 5], [7, 9, 11]])\n",
    "arr_2 = np.array([[2, 4, 6], [8, 10, 12]])\n",
    "```\n",
    "    \n",
    "2, Add `arr_1` and `arr_2` element by element. Print the result, the expected output is:\n",
    "    \n",
    "```\n",
    "[[ 3  7 11]\n",
    " [15 19 23]]```\n",
    "\n",
    "</div>"
   ]
  },
  {
   "cell_type": "code",
   "execution_count": 59,
   "metadata": {},
   "outputs": [
    {
     "data": {
      "text/plain": [
       "array([[ 3,  7, 11],\n",
       "       [15, 19, 23]])"
      ]
     },
     "execution_count": 59,
     "metadata": {},
     "output_type": "execute_result"
    }
   ],
   "source": [
    "arr_1 = np.array([[1, 3, 5], [7, 9, 11]])\n",
    "arr_2 = np.array([[2, 4, 6], [8, 10, 12]])\n",
    "sum([arr_1,arr_2])"
   ]
  },
  {
   "cell_type": "markdown",
   "metadata": {},
   "source": [
    "<div class=\"alert alert-warning\">\n",
    "<b>QUESTION 12:</b>\n",
    "    \n",
    "1, Define an array: `arr = np.arange(15).reshape(3, 5)`\n",
    "\n",
    "2, Print the array below by indexing `arr`.\n",
    "\n",
    "```    \n",
    "[[ 6  7]\n",
    " [11 12]]```\n",
    "\n",
    "</div>"
   ]
  },
  {
   "cell_type": "code",
   "execution_count": 62,
   "metadata": {},
   "outputs": [
    {
     "data": {
      "text/plain": [
       "array([[ 6,  7],\n",
       "       [11, 12]])"
      ]
     },
     "execution_count": 62,
     "metadata": {},
     "output_type": "execute_result"
    }
   ],
   "source": [
    "arr = np.arange(15).reshape(3, 5)\n",
    "arr[1:3,1:3]"
   ]
  },
  {
   "cell_type": "markdown",
   "metadata": {},
   "source": [
    "<div class=\"alert alert-warning\">\n",
    "<b>QUESTION 13:</b>\n",
    "    \n",
    "1, Define an array: `arr = np.array([[-1, 9, 10], [3, -2, 9], [6, 2, 2]])`\n",
    "\n",
    "2, Replace the negative numbers in `arr` with 0. Print the new array, the expected output is:\n",
    "\n",
    "```    \n",
    "[[ 0  9 10]\n",
    " [ 3  0  9]\n",
    " [ 6  2  2]]```\n",
    "\n",
    "</div>"
   ]
  },
  {
   "cell_type": "code",
   "execution_count": 64,
   "metadata": {},
   "outputs": [
    {
     "data": {
      "text/plain": [
       "array([[ 0,  9, 10],\n",
       "       [ 3,  0,  9],\n",
       "       [ 6,  2,  2]])"
      ]
     },
     "execution_count": 64,
     "metadata": {},
     "output_type": "execute_result"
    }
   ],
   "source": [
    "arr = np.array([[-1, 9, 10], [3, -2, 9], [6, 2, 2]])\n",
    "arr[arr<0]=0\n",
    "arr"
   ]
  },
  {
   "cell_type": "markdown",
   "metadata": {},
   "source": [
    "<div class=\"alert alert-warning\">\n",
    "<b>QUESTION 14:</b>\n",
    "    \n",
    "1, Define an array: `arr = np.arange(21).reshape(7,3)`\n",
    "\n",
    "2, Get the data from the last column as a one-dimensional array. Print the array, the expected output is:\n",
    "```\n",
    "[ 2  5  8 11 14 17 20]```\n",
    "\n",
    "</div>"
   ]
  },
  {
   "cell_type": "code",
   "execution_count": 69,
   "metadata": {},
   "outputs": [
    {
     "name": "stdout",
     "output_type": "stream",
     "text": [
      "[ 2  5  8 11 14 17 20]\n"
     ]
    }
   ],
   "source": [
    "arr = np.arange(21).reshape(7,3)\n",
    "print(arr.T[2])"
   ]
  },
  {
   "cell_type": "markdown",
   "metadata": {},
   "source": [
    "<div class=\"alert alert-warning\">\n",
    "<b>QUESTION 15:</b>\n",
    "    \n",
    "1, Define an array: \n",
    "```python\n",
    "arr = np.array([[11,  9,  5],\n",
    "                [ 2,  5,  8],\n",
    "                [ 7,  5,  2],\n",
    "                [10, 13,  1]])\n",
    "```\n",
    "\n",
    "2, Sort the values in each row of `arr` in ascending order. Print the new array, the expected output is:\n",
    "```\n",
    "[[ 5  9 11]\n",
    " [ 2  5  8]\n",
    " [ 2  5  7]\n",
    " [ 1 10 13]]```\n",
    "\n",
    "</div>"
   ]
  },
  {
   "cell_type": "code",
   "execution_count": 73,
   "metadata": {},
   "outputs": [
    {
     "name": "stdout",
     "output_type": "stream",
     "text": [
      "[[ 5  9 11]\n",
      " [ 2  5  8]\n",
      " [ 2  5  7]\n",
      " [ 1 10 13]]\n"
     ]
    }
   ],
   "source": [
    "arr = np.array([[11,  9,  5],\n",
    "                [ 2,  5,  8],\n",
    "                [ 7,  5,  2],\n",
    "                [10, 13,  1]])\n",
    "arr.sort()\n",
    "print(arr)"
   ]
  },
  {
   "cell_type": "markdown",
   "metadata": {},
   "source": [
    "<div class=\"alert alert-warning\">\n",
    "<b>QUESTION 16:</b>\n",
    "\n",
    "1, Define a DataFrame called `exam_attempts`:\n",
    "```python\n",
    "exam_attempts  = pd.DataFrame({'NAME': ['Anastasia', 'Andy', 'Katherine', 'Helen', 'Emily', \n",
    "                                      'Michael', 'Matthew', 'Maria', 'Kevin', 'Jonas'],\n",
    "                               'ATTEMPTS': [1, 3, 2, 3, 2, 3, 1, 1, 2, 1]})\n",
    "```        \n",
    "   \n",
    "2, Convert the column names from upper case to lower case. Display the DataFrame `exam_attempts`. The expected output would be:\n",
    "\n",
    "<img src=\"//i.imgur.com/GtpPSpq.png\" height=\"14%\" width=\"14%\">\n",
    "</div>"
   ]
  },
  {
   "cell_type": "code",
   "execution_count": 76,
   "metadata": {},
   "outputs": [
    {
     "data": {
      "text/html": [
       "<div>\n",
       "<style>\n",
       "    .dataframe thead tr:only-child th {\n",
       "        text-align: right;\n",
       "    }\n",
       "\n",
       "    .dataframe thead th {\n",
       "        text-align: left;\n",
       "    }\n",
       "\n",
       "    .dataframe tbody tr th {\n",
       "        vertical-align: top;\n",
       "    }\n",
       "</style>\n",
       "<table border=\"1\" class=\"dataframe\">\n",
       "  <thead>\n",
       "    <tr style=\"text-align: right;\">\n",
       "      <th></th>\n",
       "      <th>attempts</th>\n",
       "      <th>name</th>\n",
       "    </tr>\n",
       "  </thead>\n",
       "  <tbody>\n",
       "    <tr>\n",
       "      <th>0</th>\n",
       "      <td>1</td>\n",
       "      <td>Anastasia</td>\n",
       "    </tr>\n",
       "    <tr>\n",
       "      <th>1</th>\n",
       "      <td>3</td>\n",
       "      <td>Andy</td>\n",
       "    </tr>\n",
       "    <tr>\n",
       "      <th>2</th>\n",
       "      <td>2</td>\n",
       "      <td>Katherine</td>\n",
       "    </tr>\n",
       "    <tr>\n",
       "      <th>3</th>\n",
       "      <td>3</td>\n",
       "      <td>Helen</td>\n",
       "    </tr>\n",
       "    <tr>\n",
       "      <th>4</th>\n",
       "      <td>2</td>\n",
       "      <td>Emily</td>\n",
       "    </tr>\n",
       "    <tr>\n",
       "      <th>5</th>\n",
       "      <td>3</td>\n",
       "      <td>Michael</td>\n",
       "    </tr>\n",
       "    <tr>\n",
       "      <th>6</th>\n",
       "      <td>1</td>\n",
       "      <td>Matthew</td>\n",
       "    </tr>\n",
       "    <tr>\n",
       "      <th>7</th>\n",
       "      <td>1</td>\n",
       "      <td>Maria</td>\n",
       "    </tr>\n",
       "    <tr>\n",
       "      <th>8</th>\n",
       "      <td>2</td>\n",
       "      <td>Kevin</td>\n",
       "    </tr>\n",
       "    <tr>\n",
       "      <th>9</th>\n",
       "      <td>1</td>\n",
       "      <td>Jonas</td>\n",
       "    </tr>\n",
       "  </tbody>\n",
       "</table>\n",
       "</div>"
      ],
      "text/plain": [
       "   attempts       name\n",
       "0         1  Anastasia\n",
       "1         3       Andy\n",
       "2         2  Katherine\n",
       "3         3      Helen\n",
       "4         2      Emily\n",
       "5         3    Michael\n",
       "6         1    Matthew\n",
       "7         1      Maria\n",
       "8         2      Kevin\n",
       "9         1      Jonas"
      ]
     },
     "execution_count": 76,
     "metadata": {},
     "output_type": "execute_result"
    }
   ],
   "source": [
    "exam_attempts  = pd.DataFrame({'NAME': ['Anastasia', 'Andy', 'Katherine', 'Helen', 'Emily', \n",
    "                                      'Michael', 'Matthew', 'Maria', 'Kevin', 'Jonas'],\n",
    "                               'ATTEMPTS': [1, 3, 2, 3, 2, 3, 1, 1, 2, 1]})\n",
    "exam_attempts.columns = exam_attempts.columns.map(str.lower)\n",
    "exam_attempts"
   ]
  },
  {
   "cell_type": "markdown",
   "metadata": {},
   "source": [
    "<div class=\"alert alert-warning\">\n",
    "<b>QUESTION 17:</b>\n",
    "\n",
    "1, Add `1` to each value in column `attempts` from DataFrame `exam_attempts`.\n",
    "\n",
    "2, Display the **updated** DataFrame `exam_attempts`, the expected output would be:\n",
    "    \n",
    "<img src=\"//i.imgur.com/RgkRw5C.png\" height=\"14%\" width=\"14%\">\n",
    "\n",
    "</div>"
   ]
  },
  {
   "cell_type": "code",
   "execution_count": 78,
   "metadata": {},
   "outputs": [
    {
     "data": {
      "text/html": [
       "<div>\n",
       "<style>\n",
       "    .dataframe thead tr:only-child th {\n",
       "        text-align: right;\n",
       "    }\n",
       "\n",
       "    .dataframe thead th {\n",
       "        text-align: left;\n",
       "    }\n",
       "\n",
       "    .dataframe tbody tr th {\n",
       "        vertical-align: top;\n",
       "    }\n",
       "</style>\n",
       "<table border=\"1\" class=\"dataframe\">\n",
       "  <thead>\n",
       "    <tr style=\"text-align: right;\">\n",
       "      <th></th>\n",
       "      <th>attempts</th>\n",
       "      <th>name</th>\n",
       "    </tr>\n",
       "  </thead>\n",
       "  <tbody>\n",
       "    <tr>\n",
       "      <th>0</th>\n",
       "      <td>2</td>\n",
       "      <td>Anastasia</td>\n",
       "    </tr>\n",
       "    <tr>\n",
       "      <th>1</th>\n",
       "      <td>4</td>\n",
       "      <td>Andy</td>\n",
       "    </tr>\n",
       "    <tr>\n",
       "      <th>2</th>\n",
       "      <td>3</td>\n",
       "      <td>Katherine</td>\n",
       "    </tr>\n",
       "    <tr>\n",
       "      <th>3</th>\n",
       "      <td>4</td>\n",
       "      <td>Helen</td>\n",
       "    </tr>\n",
       "    <tr>\n",
       "      <th>4</th>\n",
       "      <td>3</td>\n",
       "      <td>Emily</td>\n",
       "    </tr>\n",
       "    <tr>\n",
       "      <th>5</th>\n",
       "      <td>4</td>\n",
       "      <td>Michael</td>\n",
       "    </tr>\n",
       "    <tr>\n",
       "      <th>6</th>\n",
       "      <td>2</td>\n",
       "      <td>Matthew</td>\n",
       "    </tr>\n",
       "    <tr>\n",
       "      <th>7</th>\n",
       "      <td>2</td>\n",
       "      <td>Maria</td>\n",
       "    </tr>\n",
       "    <tr>\n",
       "      <th>8</th>\n",
       "      <td>3</td>\n",
       "      <td>Kevin</td>\n",
       "    </tr>\n",
       "    <tr>\n",
       "      <th>9</th>\n",
       "      <td>2</td>\n",
       "      <td>Jonas</td>\n",
       "    </tr>\n",
       "  </tbody>\n",
       "</table>\n",
       "</div>"
      ],
      "text/plain": [
       "   attempts       name\n",
       "0         2  Anastasia\n",
       "1         4       Andy\n",
       "2         3  Katherine\n",
       "3         4      Helen\n",
       "4         3      Emily\n",
       "5         4    Michael\n",
       "6         2    Matthew\n",
       "7         2      Maria\n",
       "8         3      Kevin\n",
       "9         2      Jonas"
      ]
     },
     "execution_count": 78,
     "metadata": {},
     "output_type": "execute_result"
    }
   ],
   "source": [
    "exam_attempts['attempts']=exam_attempts['attempts']+1\n",
    "exam_attempts"
   ]
  },
  {
   "cell_type": "markdown",
   "metadata": {},
   "source": [
    "<div class=\"alert alert-warning\">\n",
    "<b>QUESTION 18:</b>\n",
    "\n",
    "1, Define a dataframe called `exam_score`:\n",
    "    \n",
    "```python\n",
    "exam_score  = pd.DataFrame({'name': ['Anastasia', 'Andy', 'Katherine', 'Helen', 'Emily', \n",
    "                                      'Michael', 'Matthew', 'Maria', 'Kevin', 'Jonas'],\n",
    "                            'score': [9., 10., 6.5, np.nan, 8., 8., 5.5, np.nan, 4., 2.]})\n",
    "```\n",
    "        \n",
    "   \n",
    "2, Merge DataFrames `exam_attempts` and `exam_score` based on the values in column `name`. Assign the merged DataFrame to variable `exam_result`. Display the DataFrame `exam_result`, the expected output would be:\n",
    "\n",
    "<img src=\"//i.imgur.com/fur6YEN.png\" height=\"17%\" width=\"17%\">\n",
    "</div>"
   ]
  },
  {
   "cell_type": "code",
   "execution_count": 79,
   "metadata": {},
   "outputs": [
    {
     "data": {
      "text/html": [
       "<div>\n",
       "<style>\n",
       "    .dataframe thead tr:only-child th {\n",
       "        text-align: right;\n",
       "    }\n",
       "\n",
       "    .dataframe thead th {\n",
       "        text-align: left;\n",
       "    }\n",
       "\n",
       "    .dataframe tbody tr th {\n",
       "        vertical-align: top;\n",
       "    }\n",
       "</style>\n",
       "<table border=\"1\" class=\"dataframe\">\n",
       "  <thead>\n",
       "    <tr style=\"text-align: right;\">\n",
       "      <th></th>\n",
       "      <th>attempts</th>\n",
       "      <th>name</th>\n",
       "      <th>score</th>\n",
       "    </tr>\n",
       "  </thead>\n",
       "  <tbody>\n",
       "    <tr>\n",
       "      <th>0</th>\n",
       "      <td>2</td>\n",
       "      <td>Anastasia</td>\n",
       "      <td>9.0</td>\n",
       "    </tr>\n",
       "    <tr>\n",
       "      <th>1</th>\n",
       "      <td>4</td>\n",
       "      <td>Andy</td>\n",
       "      <td>10.0</td>\n",
       "    </tr>\n",
       "    <tr>\n",
       "      <th>2</th>\n",
       "      <td>3</td>\n",
       "      <td>Katherine</td>\n",
       "      <td>6.5</td>\n",
       "    </tr>\n",
       "    <tr>\n",
       "      <th>3</th>\n",
       "      <td>4</td>\n",
       "      <td>Helen</td>\n",
       "      <td>NaN</td>\n",
       "    </tr>\n",
       "    <tr>\n",
       "      <th>4</th>\n",
       "      <td>3</td>\n",
       "      <td>Emily</td>\n",
       "      <td>8.0</td>\n",
       "    </tr>\n",
       "    <tr>\n",
       "      <th>5</th>\n",
       "      <td>4</td>\n",
       "      <td>Michael</td>\n",
       "      <td>8.0</td>\n",
       "    </tr>\n",
       "    <tr>\n",
       "      <th>6</th>\n",
       "      <td>2</td>\n",
       "      <td>Matthew</td>\n",
       "      <td>5.5</td>\n",
       "    </tr>\n",
       "    <tr>\n",
       "      <th>7</th>\n",
       "      <td>2</td>\n",
       "      <td>Maria</td>\n",
       "      <td>NaN</td>\n",
       "    </tr>\n",
       "    <tr>\n",
       "      <th>8</th>\n",
       "      <td>3</td>\n",
       "      <td>Kevin</td>\n",
       "      <td>4.0</td>\n",
       "    </tr>\n",
       "    <tr>\n",
       "      <th>9</th>\n",
       "      <td>2</td>\n",
       "      <td>Jonas</td>\n",
       "      <td>2.0</td>\n",
       "    </tr>\n",
       "  </tbody>\n",
       "</table>\n",
       "</div>"
      ],
      "text/plain": [
       "   attempts       name  score\n",
       "0         2  Anastasia    9.0\n",
       "1         4       Andy   10.0\n",
       "2         3  Katherine    6.5\n",
       "3         4      Helen    NaN\n",
       "4         3      Emily    8.0\n",
       "5         4    Michael    8.0\n",
       "6         2    Matthew    5.5\n",
       "7         2      Maria    NaN\n",
       "8         3      Kevin    4.0\n",
       "9         2      Jonas    2.0"
      ]
     },
     "execution_count": 79,
     "metadata": {},
     "output_type": "execute_result"
    }
   ],
   "source": [
    "exam_score  = pd.DataFrame({'name': ['Anastasia', 'Andy', 'Katherine', 'Helen', 'Emily', \n",
    "                                      'Michael', 'Matthew', 'Maria', 'Kevin', 'Jonas'],\n",
    "                            'score': [9., 10., 6.5, np.nan, 8., 8., 5.5, np.nan, 4., 2.]})\n",
    "exam_result=pd.merge(exam_attempts,exam_score,on='name')\n",
    "exam_result"
   ]
  },
  {
   "cell_type": "markdown",
   "metadata": {},
   "source": [
    "<div class=\"alert alert-warning\">\n",
    "<b>QUESTION 19:</b>\n",
    "\n",
    "For DataFrame `exam_result`, fill the missing values in column `score` with the mean. Display the updated DataFrame, the expected output would be:\n",
    "\n",
    "<img src=\"//i.imgur.com/BnbZmI8.png\" height=\"17%\" width=\"17%\">\n",
    "</div>"
   ]
  },
  {
   "cell_type": "code",
   "execution_count": 81,
   "metadata": {},
   "outputs": [
    {
     "data": {
      "text/html": [
       "<div>\n",
       "<style>\n",
       "    .dataframe thead tr:only-child th {\n",
       "        text-align: right;\n",
       "    }\n",
       "\n",
       "    .dataframe thead th {\n",
       "        text-align: left;\n",
       "    }\n",
       "\n",
       "    .dataframe tbody tr th {\n",
       "        vertical-align: top;\n",
       "    }\n",
       "</style>\n",
       "<table border=\"1\" class=\"dataframe\">\n",
       "  <thead>\n",
       "    <tr style=\"text-align: right;\">\n",
       "      <th></th>\n",
       "      <th>attempts</th>\n",
       "      <th>name</th>\n",
       "      <th>score</th>\n",
       "    </tr>\n",
       "  </thead>\n",
       "  <tbody>\n",
       "    <tr>\n",
       "      <th>0</th>\n",
       "      <td>2</td>\n",
       "      <td>Anastasia</td>\n",
       "      <td>9.000</td>\n",
       "    </tr>\n",
       "    <tr>\n",
       "      <th>1</th>\n",
       "      <td>4</td>\n",
       "      <td>Andy</td>\n",
       "      <td>10.000</td>\n",
       "    </tr>\n",
       "    <tr>\n",
       "      <th>2</th>\n",
       "      <td>3</td>\n",
       "      <td>Katherine</td>\n",
       "      <td>6.500</td>\n",
       "    </tr>\n",
       "    <tr>\n",
       "      <th>3</th>\n",
       "      <td>4</td>\n",
       "      <td>Helen</td>\n",
       "      <td>6.625</td>\n",
       "    </tr>\n",
       "    <tr>\n",
       "      <th>4</th>\n",
       "      <td>3</td>\n",
       "      <td>Emily</td>\n",
       "      <td>8.000</td>\n",
       "    </tr>\n",
       "    <tr>\n",
       "      <th>5</th>\n",
       "      <td>4</td>\n",
       "      <td>Michael</td>\n",
       "      <td>8.000</td>\n",
       "    </tr>\n",
       "    <tr>\n",
       "      <th>6</th>\n",
       "      <td>2</td>\n",
       "      <td>Matthew</td>\n",
       "      <td>5.500</td>\n",
       "    </tr>\n",
       "    <tr>\n",
       "      <th>7</th>\n",
       "      <td>2</td>\n",
       "      <td>Maria</td>\n",
       "      <td>6.625</td>\n",
       "    </tr>\n",
       "    <tr>\n",
       "      <th>8</th>\n",
       "      <td>3</td>\n",
       "      <td>Kevin</td>\n",
       "      <td>4.000</td>\n",
       "    </tr>\n",
       "    <tr>\n",
       "      <th>9</th>\n",
       "      <td>2</td>\n",
       "      <td>Jonas</td>\n",
       "      <td>2.000</td>\n",
       "    </tr>\n",
       "  </tbody>\n",
       "</table>\n",
       "</div>"
      ],
      "text/plain": [
       "   attempts       name   score\n",
       "0         2  Anastasia   9.000\n",
       "1         4       Andy  10.000\n",
       "2         3  Katherine   6.500\n",
       "3         4      Helen   6.625\n",
       "4         3      Emily   8.000\n",
       "5         4    Michael   8.000\n",
       "6         2    Matthew   5.500\n",
       "7         2      Maria   6.625\n",
       "8         3      Kevin   4.000\n",
       "9         2      Jonas   2.000"
      ]
     },
     "execution_count": 81,
     "metadata": {},
     "output_type": "execute_result"
    }
   ],
   "source": [
    "exam_result['score']=exam_result['score'].fillna(exam_result['score'].mean())\n",
    "exam_result"
   ]
  },
  {
   "cell_type": "markdown",
   "metadata": {},
   "source": [
    "<div class=\"alert alert-warning\">\n",
    "<b>QUESTION 20: </b> \n",
    "\n",
    "Display the matching rows in DataFrame `exam_result` where `name` end with `a`, the expected output would be:\n",
    "    \n",
    "<img src=\"//i.imgur.com/mIRWyLs.png\" height=\"20%\" width=\"20%\">\n",
    "\n",
    "</div>"
   ]
  },
  {
   "cell_type": "code",
   "execution_count": 84,
   "metadata": {},
   "outputs": [
    {
     "data": {
      "text/html": [
       "<div>\n",
       "<style>\n",
       "    .dataframe thead tr:only-child th {\n",
       "        text-align: right;\n",
       "    }\n",
       "\n",
       "    .dataframe thead th {\n",
       "        text-align: left;\n",
       "    }\n",
       "\n",
       "    .dataframe tbody tr th {\n",
       "        vertical-align: top;\n",
       "    }\n",
       "</style>\n",
       "<table border=\"1\" class=\"dataframe\">\n",
       "  <thead>\n",
       "    <tr style=\"text-align: right;\">\n",
       "      <th></th>\n",
       "      <th>attempts</th>\n",
       "      <th>name</th>\n",
       "      <th>score</th>\n",
       "    </tr>\n",
       "  </thead>\n",
       "  <tbody>\n",
       "    <tr>\n",
       "      <th>0</th>\n",
       "      <td>2</td>\n",
       "      <td>Anastasia</td>\n",
       "      <td>9.000</td>\n",
       "    </tr>\n",
       "    <tr>\n",
       "      <th>7</th>\n",
       "      <td>2</td>\n",
       "      <td>Maria</td>\n",
       "      <td>6.625</td>\n",
       "    </tr>\n",
       "  </tbody>\n",
       "</table>\n",
       "</div>"
      ],
      "text/plain": [
       "   attempts       name  score\n",
       "0         2  Anastasia  9.000\n",
       "7         2      Maria  6.625"
      ]
     },
     "execution_count": 84,
     "metadata": {},
     "output_type": "execute_result"
    }
   ],
   "source": [
    "exam_result[exam_result['name'].str.endswith('a')]"
   ]
  },
  {
   "cell_type": "code",
   "execution_count": null,
   "metadata": {
    "collapsed": true
   },
   "outputs": [],
   "source": []
  }
 ],
 "metadata": {
  "kernelspec": {
   "display_name": "Python 3",
   "language": "python",
   "name": "python3"
  },
  "language_info": {
   "codemirror_mode": {
    "name": "ipython",
    "version": 3
   },
   "file_extension": ".py",
   "mimetype": "text/x-python",
   "name": "python",
   "nbconvert_exporter": "python",
   "pygments_lexer": "ipython3",
   "version": "3.6.3"
  }
 },
 "nbformat": 4,
 "nbformat_minor": 2
}
